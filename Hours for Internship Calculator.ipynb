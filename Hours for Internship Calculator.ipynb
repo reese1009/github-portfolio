{
 "cells": [
  {
   "cell_type": "code",
   "execution_count": 1,
   "id": "fdbb0a2c-4620-47c0-ab2b-f0ba90be8512",
   "metadata": {
    "scrolled": true
   },
   "outputs": [
    {
     "name": "stdin",
     "output_type": "stream",
     "text": [
      "How many hours did you start with? 20\n",
      "How many hours are you working weekly? 20\n"
     ]
    },
    {
     "name": "stdout",
     "output_type": "stream",
     "text": [
      "Starting Hours are: 20\n",
      "Week - Accumulated Hours\n",
      "Week 1 - 40 Hours\n",
      "Week 2 - 60 Hours\n",
      "Week 3 - 80 Hours\n",
      "Week 4 - 100 Hours\n",
      "Week 5 - 120 Hours\n",
      "Week 6 - 140 Hours\n",
      "Week 7 - 160 Hours\n",
      "Week 8 - 180 Hours\n",
      "\n",
      "At Week 7 you will have met your internship goal of at least 150 hours with 160 hours.\n",
      "Week 7 ends on Oct. 9th\n"
     ]
    }
   ],
   "source": [
    "# Initialize dictionary for week/hour relations\n",
    "data = {}\n",
    "date = {\n",
    "    'Week 1': 'Aug. 28th', 'Week 2': 'Sep. 4th', 'Week 3': 'Sep. 11th', 'Week 4': 'Sep. 18th', \n",
    "    'Week 5': 'Sep. 25th', 'Week 6': 'Oct. 2nd', 'Week 7': 'Oct. 9th', 'Week 8': 'Oct. 16th', \n",
    "    'Week 9': 'Oct. 23rd', 'Week 10': 'Oct. 30th', 'Week 11': 'Nov. 6th', 'Week 12': 'Nov. 13th', \n",
    "    'Week 13': 'Nov. 20th', 'Week 14': 'Nov. 27th', 'Week 15': 'Dec. 4th', 'Week 16': 'Dec. 11th'\n",
    "}\n",
    "\n",
    "# Function to calculate weekly hours\n",
    "def add_val():\n",
    "    start_num = int(input('How many hours did you start with?'))  #Convert input to an integer\n",
    "    weekly_hours = int(input('How many hours are you working weekly?'))\n",
    "    week_num = 0\n",
    "    print(f'Starting Hours are: {start_num}')\n",
    "    print('Week - Accumulated Hours')\n",
    "    \n",
    "    # Loops through adding increments of 11 on top of starting hours, work 11 hours a week\n",
    "    while start_num <= 200:\n",
    "        start_num += weekly_hours\n",
    "        # Stops it from printing 207 output\n",
    "        if start_num >= 200:\n",
    "            break\n",
    "        week_num += 1\n",
    "        # Appends output into the dictionary with week format matching the date dictionary\n",
    "        week_key = f'Week {week_num}'\n",
    "        data[week_key] = start_num\n",
    "        print(f'{week_key} - {start_num} Hours')\n",
    "\n",
    "# Calls function\n",
    "add_val()\n",
    "\n",
    "# Parses through dictionary to find the first set that surpasses 150-hour threshold, connects the two dictionaries to match week to date\n",
    "threshold = 150\n",
    "for week, hours in data.items():\n",
    "    if hours >= threshold:\n",
    "        print(f\"\\nAt {week} you will have met your internship goal of at least 150 hours with {hours} hours.\")\n",
    "        if week in date:\n",
    "            print(f'{week} ends on {date[week]}')\n",
    "        break\n"
   ]
  },
  {
   "cell_type": "code",
   "execution_count": null,
   "id": "3565af81-1b66-489f-94f2-a4e3fbcf611b",
   "metadata": {},
   "outputs": [],
   "source": []
  }
 ],
 "metadata": {
  "kernelspec": {
   "display_name": "Python 3 (ipykernel)",
   "language": "python",
   "name": "python3"
  },
  "language_info": {
   "codemirror_mode": {
    "name": "ipython",
    "version": 3
   },
   "file_extension": ".py",
   "mimetype": "text/x-python",
   "name": "python",
   "nbconvert_exporter": "python",
   "pygments_lexer": "ipython3",
   "version": "3.12.4"
  }
 },
 "nbformat": 4,
 "nbformat_minor": 5
}
